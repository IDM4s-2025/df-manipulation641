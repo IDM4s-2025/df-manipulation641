{
 "cells": [
  {
   "cell_type": "markdown",
   "metadata": {},
   "source": [
    "# Reading data\n",
    "Read the train.csv file as a pandas dataframe."
   ]
  },
  {
   "cell_type": "code",
   "execution_count": 3,
   "metadata": {},
   "outputs": [
    {
     "name": "stdout",
     "output_type": "stream",
     "text": [
      "   PassengerId  Survived  Pclass  \\\n",
      "0            1         0       3   \n",
      "1            2         1       1   \n",
      "2            3         1       3   \n",
      "3            4         1       1   \n",
      "4            5         0       3   \n",
      "\n",
      "                                                Name     Sex   Age  SibSp  \\\n",
      "0                            Braund, Mr. Owen Harris    male  22.0      1   \n",
      "1  Cumings, Mrs. John Bradley (Florence Briggs Th...  female  38.0      1   \n",
      "2                             Heikkinen, Miss. Laina  female  26.0      0   \n",
      "3       Futrelle, Mrs. Jacques Heath (Lily May Peel)  female  35.0      1   \n",
      "4                           Allen, Mr. William Henry    male  35.0      0   \n",
      "\n",
      "   Parch            Ticket     Fare Cabin Embarked  \n",
      "0      0         A/5 21171   7.2500   NaN        S  \n",
      "1      0          PC 17599  71.2833   C85        C  \n",
      "2      0  STON/O2. 3101282   7.9250   NaN        S  \n",
      "3      0            113803  53.1000  C123        S  \n",
      "4      0            373450   8.0500   NaN        S  \n"
     ]
    }
   ],
   "source": [
    "import pandas as pd\n",
    "df = pd.read_csv('data/train.csv')\n",
    "print(df.head())"
   ]
  },
  {
   "cell_type": "markdown",
   "metadata": {},
   "source": [
    "# Indexing\n",
    "1. Create a function that returns the name of a passenger given their PassengerId.\n",
    "2. Create a function that returns the PassengerId of a passenger given their Name.\n",
    "3. Print a message with the ID of passenger **Montvila, Rev. Juozas** with the following format: 'The ID pf passenger Montvila, Rev. Juozas is ##'\n",
    "4. Print a message with the name of the passenger with ID **42** with the following format: 'The passenger with ID 42 is X'"
   ]
  },
  {
   "cell_type": "code",
   "execution_count": 9,
   "metadata": {},
   "outputs": [
    {
     "name": "stdout",
     "output_type": "stream",
     "text": [
      "Heikkinen, Miss. Laina\n"
     ]
    }
   ],
   "source": [
    "def get_passenger_name(passenger_id):\n",
    "    passenger = df[df['PassengerId'] == passenger_id]\n",
    "    if not passenger.empty:\n",
    "        return passenger.iloc[0]['Name']\n",
    "    else:\n",
    "        return None\n",
    "\n",
    "print(get_passenger_name(3))  "
   ]
  },
  {
   "cell_type": "code",
   "execution_count": 11,
   "metadata": {},
   "outputs": [
    {
     "name": "stdout",
     "output_type": "stream",
     "text": [
      "3\n"
     ]
    }
   ],
   "source": [
    "def get_passenger_id(name):\n",
    "    passenger = df[df['Name'] == name]\n",
    "    if not passenger.empty:\n",
    "        return passenger.iloc[0]['PassengerId']\n",
    "    else:\n",
    "        return None\n",
    "\n",
    "print(get_passenger_id('Heikkinen, Miss. Laina'))"
   ]
  },
  {
   "cell_type": "code",
   "execution_count": 12,
   "metadata": {},
   "outputs": [
    {
     "name": "stdout",
     "output_type": "stream",
     "text": [
      "The ID of passenger Montvila, Rev. Juozas is 887\n"
     ]
    }
   ],
   "source": [
    "passenger_name = \"Montvila, Rev. Juozas\"\n",
    "passenger_id = get_passenger_id(passenger_name)\n",
    "print(f'The ID of passenger {passenger_name} is {passenger_id}')"
   ]
  },
  {
   "cell_type": "code",
   "execution_count": 13,
   "metadata": {},
   "outputs": [
    {
     "name": "stdout",
     "output_type": "stream",
     "text": [
      "The passenger with ID 42 is Turpin, Mrs. William John Robert (Dorothy Ann Wonnacott)\n"
     ]
    }
   ],
   "source": [
    "passenger_id_42 = 42\n",
    "passenger_name_42 = get_passenger_name(passenger_id_42)\n",
    "print(f'The passenger with ID {passenger_id_42} is {passenger_name_42}')"
   ]
  },
  {
   "cell_type": "markdown",
   "metadata": {},
   "source": [
    "5. Print all information about the oldest passenger."
   ]
  },
  {
   "cell_type": "markdown",
   "metadata": {},
   "source": [
    "# Subseting\n",
    "We are asked to share data for analysis by a third party. Since our dataset contains personal details, we only want to share with them the following information: ticket classes, fares and port of embarkation. We are asked to deliver a sample of the first 100 rows of this dataset.\n",
    "\n",
    "6. Create and save the new dataset in **data/port_fares.csv**."
   ]
  },
  {
   "cell_type": "markdown",
   "metadata": {},
   "source": [
    "# Counting\n",
    "7. We want to know if there were any survivors over the age of 60, print all of their information.\n",
    "8. How many people over 60 survived?\n",
    "9. What percentage of people over 60 survived?"
   ]
  },
  {
   "cell_type": "markdown",
   "metadata": {},
   "source": [
    "# Women and children first?\n",
    "10. Find out if women and children were more likely to survive."
   ]
  },
  {
   "cell_type": "markdown",
   "metadata": {},
   "source": [
    "11. Write a function that returns the percentage of people that survived from a subset given as a boolean Pandas series."
   ]
  },
  {
   "cell_type": "markdown",
   "metadata": {},
   "source": [
    "# Summarizing\n",
    "\n",
    "12. What is the median age of the passengers?\n",
    "13. How many passengers embarked from each port?"
   ]
  },
  {
   "cell_type": "markdown",
   "metadata": {},
   "source": [
    "14. Generate two hypotheses about how does the survival rate differ among groups of passengers. Write your code to explore both hypotheses."
   ]
  }
 ],
 "metadata": {
  "kernelspec": {
   "display_name": "idm4to",
   "language": "python",
   "name": "python3"
  },
  "language_info": {
   "codemirror_mode": {
    "name": "ipython",
    "version": 3
   },
   "file_extension": ".py",
   "mimetype": "text/x-python",
   "name": "python",
   "nbconvert_exporter": "python",
   "pygments_lexer": "ipython3",
   "version": "3.12.9"
  }
 },
 "nbformat": 4,
 "nbformat_minor": 2
}
