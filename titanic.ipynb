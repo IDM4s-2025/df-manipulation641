{
 "cells": [
  {
   "cell_type": "markdown",
   "metadata": {},
   "source": [
    "# Reading data\n",
    "Read the train.csv file as a pandas dataframe."
   ]
  },
  {
   "cell_type": "code",
   "execution_count": 7,
   "metadata": {},
   "outputs": [],
   "source": [
    "import titanic_fns as tf\n",
    "import pandas as pd\n",
    "datos = pd.read_csv(\"DATA/train.csv\")"
   ]
  },
  {
   "cell_type": "markdown",
   "metadata": {},
   "source": [
    "# Indexing\n",
    "1. Create a function that returns the name of a passenger given their PassengerId.\n",
    "2. Create a function that returns the PassengerId of a passenger given their Name.\n",
    "3. Print a message with the ID of passenger **Montvila, Rev. Juozas** with the following format: 'The ID pf passenger Montvila, Rev. Juozas is ##'\n",
    "4. Print a message with the name of the passenger with ID **42** with the following format: 'The passenger with ID 42 is X'"
   ]
  },
  {
   "cell_type": "code",
   "execution_count": 8,
   "metadata": {},
   "outputs": [
    {
     "name": "stdout",
     "output_type": "stream",
     "text": [
      "The ID of passenger Montvila, Rev. Juozas is 887\n",
      "The passenger with ID 42 is Turpin, Mrs. William John Robert (Dorothy Ann Wonnacott)\n"
     ]
    }
   ],
   "source": [
    "## 1. Create a function that returns the name of a passenger given their PassengerId.\n",
    "def Name_byId(df: pd.DataFrame, id: int) -> str:\n",
    "    \"\"\"Regresa el nombre del pasajero dado su id\n",
    "\n",
    "    Args:\n",
    "        df (pd.DataFrame): El conjunto de datos\n",
    "        id (int): El id del pasajero\n",
    "\n",
    "    Returns:\n",
    "        str: El nombre del pasajero\n",
    "    \"\"\"\n",
    "    name = df.loc[df[\"PassengerId\"] == id, \"Name\"]\n",
    "    return name.iloc[0] if not name.empty else \"Passenger not found\"\n",
    "\n",
    "## 2. Create a function that returns the PassengerId of a passenger given their Name.\n",
    "def Id_byName(df: pd.DataFrame, name: str) -> int:\n",
    "    \"\"\"Regresa el id del pasajero dado su nombre\n",
    "\n",
    "    Args:\n",
    "        df (pd.DataFrame): El conjunto de datos\n",
    "        name (str): El nombre del pasajero\n",
    "\n",
    "    Returns:\n",
    "        int: El id del pasajero\n",
    "    \"\"\"\n",
    "    id = df.loc[df[\"Name\"] == name, \"PassengerId\"]\n",
    "    return id.iloc[0] if not id.empty else -1  # Retorna -1 si no se encuentra el pasajero\n",
    "\n",
    "## 3. Print a message with the ID of passenger **Montvila, Rev. Juozas**\n",
    "passenger_name = \"Montvila, Rev. Juozas\"\n",
    "passenger_id = Id_byName(datos, passenger_name)\n",
    "\n",
    "print(f'The ID of passenger {passenger_name} is {passenger_id}')\n",
    "\n",
    "## 4. Print a message with the name of the passenger with ID **42**\n",
    "passenger_id_42 = 42\n",
    "passenger_name_42 = Name_byId(datos, passenger_id_42)\n",
    "\n",
    "print(f'The passenger with ID {passenger_id_42} is {passenger_name_42}')"
   ]
  },
  {
   "cell_type": "markdown",
   "metadata": {},
   "source": [
    "5. Print all information about the oldest passenger."
   ]
  },
  {
   "cell_type": "markdown",
   "metadata": {},
   "source": [
    "oldest_passenger = datos[datos[\"Age\"] == datos[\"Age\"].max()]\n",
    "\n",
    "print(oldest_passenger)"
   ]
  },
  {
   "cell_type": "markdown",
   "metadata": {},
   "source": [
    "# Subseting\n",
    "We are asked to share data for analysis by a third party. Since our dataset contains personal details, we only want to share with them the following information: ticket classes, fares and port of embarkation. We are asked to deliver a sample of the first 100 rows of this dataset.\n",
    "\n",
    "6. Create and save the new dataset in **data/port_fares.csv**."
   ]
  },
  {
   "cell_type": "code",
   "execution_count": null,
   "metadata": {},
   "outputs": [
    {
     "name": "stdout",
     "output_type": "stream",
     "text": [
      "El archivo 'data/port_fares.csv' ha sido guardado correctamente.\n"
     ]
    }
   ],
   "source": [
    "subset = datos[[\"Pclass\", \"Fare\", \"Embarked\"]].head(100)\n",
    "subset.to_csv(\"data/port_fares.csv\", index=False)\n",
    "\n",
    "print(\"The file 'data/port_fares.csv' has been uploaded successfully.\")"
   ]
  },
  {
   "cell_type": "markdown",
   "metadata": {},
   "source": [
    "# Counting\n",
    "7. We want to know if there were any survivors over the age of 60, print all of their information.\n",
    "8. How many people over 60 survived?\n",
    "9. What percentage of people over 60 survived?"
   ]
  },
  {
   "cell_type": "code",
   "execution_count": 9,
   "metadata": {},
   "outputs": [
    {
     "name": "stdout",
     "output_type": "stream",
     "text": [
      "Survivors over 60:\n",
      "     PassengerId  Survived  Pclass                                       Name  \\\n",
      "275          276         1       1          Andrews, Miss. Kornelia Theodosia   \n",
      "483          484         1       3                     Turkula, Mrs. (Hedwig)   \n",
      "570          571         1       2                         Harris, Mr. George   \n",
      "630          631         1       1       Barkworth, Mr. Algernon Henry Wilson   \n",
      "829          830         1       1  Stone, Mrs. George Nelson (Martha Evelyn)   \n",
      "\n",
      "        Sex   Age  SibSp  Parch       Ticket     Fare Cabin Embarked  \n",
      "275  female  63.0      1      0        13502  77.9583    D7        S  \n",
      "483  female  63.0      0      0         4134   9.5875   NaN        S  \n",
      "570    male  62.0      0      0  S.W./PP 752  10.5000   NaN        S  \n",
      "630    male  80.0      0      0        27042  30.0000   A23        S  \n",
      "829  female  62.0      0      0       113572  80.0000   B28      NaN  \n",
      "Number of survivors over 60: 5\n",
      "Percentage of people over 60 who survived: 22.73%\n"
     ]
    }
   ],
   "source": [
    "#7. We want to know if there were any survivors over the age of 60, print all of their information.\n",
    "survivors_over_60 = datos[(datos[\"Age\"] > 60) & (datos[\"Survived\"] == 1)]\n",
    "print(\"Survivors over 60:\")\n",
    "print(survivors_over_60)\n",
    "#8. How many people over 60 survived?\n",
    "num_survivors_over_60 = survivors_over_60.shape[0]\n",
    "print(f\"Number of survivors over 60: {num_survivors_over_60}\")\n",
    "#9. What percentage of people over 60 survived?\n",
    "total_over_60 = datos[datos[\"Age\"] > 60].shape[0]\n",
    "percentage_survived_over_60 = (num_survivors_over_60 / total_over_60) * 100 if total_over_60 > 0 else 0\n",
    "print(f\"Percentage of people over 60 who survived: {percentage_survived_over_60:.2f}%\")\n"
   ]
  },
  {
   "cell_type": "markdown",
   "metadata": {},
   "source": [
    "# Women and children first?\n",
    "10. Find out if women and children were more likely to survive."
   ]
  },
  {
   "cell_type": "markdown",
   "metadata": {},
   "source": [
    "11. Write a function that returns the percentage of people that survived from a subset given as a boolean Pandas series."
   ]
  },
  {
   "cell_type": "markdown",
   "metadata": {},
   "source": [
    "# Summarizing\n",
    "\n",
    "12. What is the median age of the passengers?\n",
    "13. How many passengers embarked from each port?"
   ]
  },
  {
   "cell_type": "markdown",
   "metadata": {},
   "source": [
    "14. Generate two hypotheses about how does the survival rate differ among groups of passengers. Write your code to explore both hypotheses."
   ]
  }
 ],
 "metadata": {
  "kernelspec": {
   "display_name": "AnalisdeDatos",
   "language": "python",
   "name": "python3"
  },
  "language_info": {
   "codemirror_mode": {
    "name": "ipython",
    "version": 3
   },
   "file_extension": ".py",
   "mimetype": "text/x-python",
   "name": "python",
   "nbconvert_exporter": "python",
   "pygments_lexer": "ipython3",
   "version": "3.11.11"
  }
 },
 "nbformat": 4,
 "nbformat_minor": 2
}
