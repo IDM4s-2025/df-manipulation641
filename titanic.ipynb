{
 "cells": [
  {
   "cell_type": "markdown",
   "metadata": {},
   "source": [
    "# Reading data\n",
    "Read the train.csv file as a pandas dataframe."
   ]
  },
  {
   "cell_type": "code",
   "execution_count": 31,
   "metadata": {},
   "outputs": [
    {
     "data": {
      "text/html": [
       "<div>\n",
       "<style scoped>\n",
       "    .dataframe tbody tr th:only-of-type {\n",
       "        vertical-align: middle;\n",
       "    }\n",
       "\n",
       "    .dataframe tbody tr th {\n",
       "        vertical-align: top;\n",
       "    }\n",
       "\n",
       "    .dataframe thead th {\n",
       "        text-align: right;\n",
       "    }\n",
       "</style>\n",
       "<table border=\"1\" class=\"dataframe\">\n",
       "  <thead>\n",
       "    <tr style=\"text-align: right;\">\n",
       "      <th></th>\n",
       "      <th>PassengerId</th>\n",
       "      <th>Survived</th>\n",
       "      <th>Pclass</th>\n",
       "      <th>Name</th>\n",
       "      <th>Sex</th>\n",
       "      <th>Age</th>\n",
       "      <th>SibSp</th>\n",
       "      <th>Parch</th>\n",
       "      <th>Ticket</th>\n",
       "      <th>Fare</th>\n",
       "      <th>Cabin</th>\n",
       "      <th>Embarked</th>\n",
       "    </tr>\n",
       "  </thead>\n",
       "  <tbody>\n",
       "    <tr>\n",
       "      <th>0</th>\n",
       "      <td>1</td>\n",
       "      <td>0</td>\n",
       "      <td>3</td>\n",
       "      <td>Braund, Mr. Owen Harris</td>\n",
       "      <td>male</td>\n",
       "      <td>22.0</td>\n",
       "      <td>1</td>\n",
       "      <td>0</td>\n",
       "      <td>A/5 21171</td>\n",
       "      <td>7.2500</td>\n",
       "      <td>NaN</td>\n",
       "      <td>S</td>\n",
       "    </tr>\n",
       "    <tr>\n",
       "      <th>1</th>\n",
       "      <td>2</td>\n",
       "      <td>1</td>\n",
       "      <td>1</td>\n",
       "      <td>Cumings, Mrs. John Bradley (Florence Briggs Th...</td>\n",
       "      <td>female</td>\n",
       "      <td>38.0</td>\n",
       "      <td>1</td>\n",
       "      <td>0</td>\n",
       "      <td>PC 17599</td>\n",
       "      <td>71.2833</td>\n",
       "      <td>C85</td>\n",
       "      <td>C</td>\n",
       "    </tr>\n",
       "    <tr>\n",
       "      <th>2</th>\n",
       "      <td>3</td>\n",
       "      <td>1</td>\n",
       "      <td>3</td>\n",
       "      <td>Heikkinen, Miss. Laina</td>\n",
       "      <td>female</td>\n",
       "      <td>26.0</td>\n",
       "      <td>0</td>\n",
       "      <td>0</td>\n",
       "      <td>STON/O2. 3101282</td>\n",
       "      <td>7.9250</td>\n",
       "      <td>NaN</td>\n",
       "      <td>S</td>\n",
       "    </tr>\n",
       "    <tr>\n",
       "      <th>3</th>\n",
       "      <td>4</td>\n",
       "      <td>1</td>\n",
       "      <td>1</td>\n",
       "      <td>Futrelle, Mrs. Jacques Heath (Lily May Peel)</td>\n",
       "      <td>female</td>\n",
       "      <td>35.0</td>\n",
       "      <td>1</td>\n",
       "      <td>0</td>\n",
       "      <td>113803</td>\n",
       "      <td>53.1000</td>\n",
       "      <td>C123</td>\n",
       "      <td>S</td>\n",
       "    </tr>\n",
       "    <tr>\n",
       "      <th>4</th>\n",
       "      <td>5</td>\n",
       "      <td>0</td>\n",
       "      <td>3</td>\n",
       "      <td>Allen, Mr. William Henry</td>\n",
       "      <td>male</td>\n",
       "      <td>35.0</td>\n",
       "      <td>0</td>\n",
       "      <td>0</td>\n",
       "      <td>373450</td>\n",
       "      <td>8.0500</td>\n",
       "      <td>NaN</td>\n",
       "      <td>S</td>\n",
       "    </tr>\n",
       "  </tbody>\n",
       "</table>\n",
       "</div>"
      ],
      "text/plain": [
       "   PassengerId  Survived  Pclass  \\\n",
       "0            1         0       3   \n",
       "1            2         1       1   \n",
       "2            3         1       3   \n",
       "3            4         1       1   \n",
       "4            5         0       3   \n",
       "\n",
       "                                                Name     Sex   Age  SibSp  \\\n",
       "0                            Braund, Mr. Owen Harris    male  22.0      1   \n",
       "1  Cumings, Mrs. John Bradley (Florence Briggs Th...  female  38.0      1   \n",
       "2                             Heikkinen, Miss. Laina  female  26.0      0   \n",
       "3       Futrelle, Mrs. Jacques Heath (Lily May Peel)  female  35.0      1   \n",
       "4                           Allen, Mr. William Henry    male  35.0      0   \n",
       "\n",
       "   Parch            Ticket     Fare Cabin Embarked  \n",
       "0      0         A/5 21171   7.2500   NaN        S  \n",
       "1      0          PC 17599  71.2833   C85        C  \n",
       "2      0  STON/O2. 3101282   7.9250   NaN        S  \n",
       "3      0            113803  53.1000  C123        S  \n",
       "4      0            373450   8.0500   NaN        S  "
      ]
     },
     "execution_count": 31,
     "metadata": {},
     "output_type": "execute_result"
    }
   ],
   "source": [
    "import pandas as pd\n",
    "\n",
    "datos = pd.read_csv(\"Data/train.csv\")\n",
    "datos.head()"
   ]
  },
  {
   "cell_type": "markdown",
   "metadata": {},
   "source": [
    "# Indexing\n",
    "1. Create a function that returns the name of a passenger given their PassengerId.\n",
    "2. Create a function that returns the PassengerId of a passenger given their Name.\n",
    "3. Print a message with the ID of passenger **Montvila, Rev. Juozas** with the following format: 'The ID pf passenger Montvila, Rev. Juozas is ##'\n",
    "4. Print a message with the name of the passenger with ID **42** with the following format: 'The passenger with ID 42 is X'"
   ]
  },
  {
   "cell_type": "code",
   "execution_count": null,
   "metadata": {},
   "outputs": [
    {
     "name": "stdout",
     "output_type": "stream",
     "text": [
      "The ID of passenger Montvila, Rev.Juozas is [887]\n",
      "The passenger with ID 42 is  ['Turpin, Mrs. William John Robert (Dorothy Ann Wonnacott)']\n"
     ]
    }
   ],
   "source": [
    "def get_name(int: id) -> str:\n",
    "    \"\"\"\n",
    "    Recibe un id y devuelve el nombre asociado\n",
    "    Args:\n",
    "        id (int): id del pasagero\n",
    "\n",
    "    Returns:\n",
    "        str: nombre del pasajero\n",
    "    \"\"\"\n",
    "\n",
    "    nombre = datos.loc[datos[\"PassengerId\"] == id, \"Name\"].values    \n",
    "    return nombre\n",
    "\n",
    "\n",
    "\n",
    "def get_id(nombre: str)-> int:\n",
    "    \"\"\"\n",
    "    Recibe un nombre y devuelve el id asociado\n",
    "    Args:\n",
    "        nombre (str): nombre del pasajero\n",
    "\n",
    "    Returns:\n",
    "        int: id asociado al nombre del pasajero\n",
    "    \"\"\"\n",
    "    id = datos.loc[datos[\"Name\"] == nombre,\"PassengerId\"].values\n",
    "    return id\n",
    "\n",
    "id = get_id(\"Montvila, Rev. Juozas\")\n",
    "print(\"The ID of passenger Montvila, Rev.Juozas is\", id)\n",
    "name = get_name(42)\n",
    "print(\"The passenger with ID 42 is \",name)"
   ]
  },
  {
   "cell_type": "markdown",
   "metadata": {},
   "source": [
    "5. Print all information about the oldest passenger."
   ]
  },
  {
   "cell_type": "code",
   "execution_count": 47,
   "metadata": {},
   "outputs": [
    {
     "name": "stdout",
     "output_type": "stream",
     "text": [
      "     PassengerId  Survived  Pclass                                  Name  \\\n",
      "630          631         1       1  Barkworth, Mr. Algernon Henry Wilson   \n",
      "\n",
      "      Sex   Age  SibSp  Parch Ticket  Fare Cabin Embarked  \n",
      "630  male  80.0      0      0  27042  30.0   A23        S  \n"
     ]
    }
   ],
   "source": [
    "o_p = datos[datos[\"Age\"] == datos[\"Age\"].max()]\n",
    "print(o_p)"
   ]
  },
  {
   "cell_type": "markdown",
   "metadata": {},
   "source": [
    "# Subseting\n",
    "We are asked to share data for analysis by a third party. Since our dataset contains personal details, we only want to share with them the following information: ticket classes, fares and port of embarkation. We are asked to deliver a sample of the first 100 rows of this dataset.\n",
    "\n",
    "6. Create and save the new dataset in **data/port_fares.csv**."
   ]
  },
  {
   "cell_type": "code",
   "execution_count": 52,
   "metadata": {},
   "outputs": [
    {
     "name": "stdout",
     "output_type": "stream",
     "text": [
      "     Pclass     Fare Embarked\n",
      "0         3   7.2500        S\n",
      "1         1  71.2833        C\n",
      "2         3   7.9250        S\n",
      "3         1  53.1000        S\n",
      "4         3   8.0500        S\n",
      "..      ...      ...      ...\n",
      "96        1  34.6542        C\n",
      "97        1  63.3583        C\n",
      "98        2  23.0000        S\n",
      "99        2  26.0000        S\n",
      "100       3   7.8958        S\n",
      "\n",
      "[101 rows x 3 columns]\n"
     ]
    }
   ],
   "source": [
    "new = datos.loc[:100,[\"Pclass\",\"Fare\",\"Embarked\"]]\n",
    "print(new)\n",
    "new.to_csv(\"Data/port_fares.csv\",index=False)"
   ]
  },
  {
   "cell_type": "markdown",
   "metadata": {},
   "source": [
    "# Counting\n",
    "7. We want to know if there were any survivors over the age of 60, print all of their information.\n",
    "8. How many people over 60 survived?\n",
    "9. What percentage of people over 60 survived?"
   ]
  },
  {
   "cell_type": "code",
   "execution_count": 63,
   "metadata": {},
   "outputs": [
    {
     "name": "stdout",
     "output_type": "stream",
     "text": [
      "     PassengerId  Survived  Pclass                                       Name  \\\n",
      "275          276         1       1          Andrews, Miss. Kornelia Theodosia   \n",
      "483          484         1       3                     Turkula, Mrs. (Hedwig)   \n",
      "570          571         1       2                         Harris, Mr. George   \n",
      "630          631         1       1       Barkworth, Mr. Algernon Henry Wilson   \n",
      "829          830         1       1  Stone, Mrs. George Nelson (Martha Evelyn)   \n",
      "\n",
      "        Sex   Age  SibSp  Parch       Ticket     Fare Cabin Embarked  \n",
      "275  female  63.0      1      0        13502  77.9583    D7        S  \n",
      "483  female  63.0      0      0         4134   9.5875   NaN        S  \n",
      "570    male  62.0      0      0  S.W./PP 752  10.5000   NaN        S  \n",
      "630    male  80.0      0      0        27042  30.0000   A23        S  \n",
      "829  female  62.0      0      0       113572  80.0000   B28      NaN  \n",
      "Survivors over 60 5\n",
      "percentage survived 22.727272727272727\n"
     ]
    }
   ],
   "source": [
    "p_60 = datos[datos[\"Age\"] > 60]\n",
    "p_60_S = datos[(datos[\"Age\"] > 60) & (datos[\"Survived\"] == 1)]\n",
    "print(p_60_S)\n",
    "survivors = p_60_S.shape[0]\n",
    "print(\"Survivors over 60\", survivors)\n",
    "percentage = survivors/p_60.shape[0] * 100\n",
    "print(\"percentage survived\",percentage) "
   ]
  },
  {
   "cell_type": "markdown",
   "metadata": {},
   "source": [
    "# Women and children first?\n",
    "10. Find out if women and children were more likely to survive."
   ]
  },
  {
   "cell_type": "code",
   "execution_count": 68,
   "metadata": {},
   "outputs": [
    {
     "name": "stdout",
     "output_type": "stream",
     "text": [
      "Percentage of men who survived 17.72151898734177, percentage of women who survived 77.18446601941747, percentage of children who survived 53.98230088495575\n"
     ]
    }
   ],
   "source": [
    "women_s = datos[(datos[\"Sex\"] == \"female\") & (datos[\"Survived\"] == 1) & (datos[\"Age\"] >=18)]\n",
    "Children_s = datos[(datos[\"Age\"] < 18) & (datos[\"Survived\"] == 1)]\n",
    "men_s = datos[(datos[\"Sex\"] == \"male\") & (datos[\"Survived\"] == 1) & (datos[\"Age\"] >=18)]\n",
    "\n",
    "women_p = women_s.shape[0]/datos[(datos[\"Sex\"] == \"female\") &(datos[\"Age\"] >= 18)].shape[0] * 100\n",
    "children_p = Children_s.shape[0]/datos[datos[\"Age\"] < 18].shape[0] *100\n",
    "men_p = men_s.shape[0]/ datos[(datos[\"Sex\"] == \"male\") &(datos[\"Age\"] >= 18)].shape[0] * 100\n",
    "\n",
    "print(f'Percentage of men who survived {men_p}, percentage of women who survived {women_p}, percentage of children who survived {children_p}')\n"
   ]
  },
  {
   "cell_type": "markdown",
   "metadata": {},
   "source": [
    "11. Write a function that returns the percentage of people that survived from a subset given as a boolean Pandas series."
   ]
  },
  {
   "cell_type": "code",
   "execution_count": null,
   "metadata": {},
   "outputs": [
    {
     "data": {
      "text/plain": [
       "206"
      ]
     },
     "execution_count": 67,
     "metadata": {},
     "output_type": "execute_result"
    }
   ],
   "source": [
    "def percentage(series: pd.Series) -> float:\n",
    "    \"\"\"Recibe un pandas series con el estado de supervivencia de los pasajeros y devuelve el porcentaje de supervivientes\n",
    "\n",
    "    Args:\n",
    "        series (pd.Series): Serie c\n",
    "        on el estatus de supervivencia de los pasajeros\n",
    "\n",
    "    Returns:\n",
    "        float: porcentaje de supervivientes\n",
    "    \"\"\"\n",
    "    total = len(series)\n",
    "    sobrevivientes = series.sum()\n",
    "    porcentaje = sobrevivientes/total *100\n",
    "    return porcentaje"
   ]
  },
  {
   "cell_type": "markdown",
   "metadata": {},
   "source": [
    "# Summarizing\n",
    "\n",
    "12. What is the median age of the passengers?\n",
    "13. How many passengers embarked from each port?"
   ]
  },
  {
   "cell_type": "code",
   "execution_count": 77,
   "metadata": {},
   "outputs": [
    {
     "name": "stdout",
     "output_type": "stream",
     "text": [
      "Median Age:  Age    28.0\n",
      "dtype: float64\n",
      "Embarked\n",
      "S    644\n",
      "C    168\n",
      "Q     77\n",
      "Name: count, dtype: int64\n"
     ]
    }
   ],
   "source": [
    "median_age = datos[[\"Age\"]].median() \n",
    "print(\"Median Age: \",median_age)\n",
    "\n",
    "port_embarked = datos[\"Embarked\"].value_counts()\n",
    "print(port_embarked)"
   ]
  },
  {
   "cell_type": "markdown",
   "metadata": {},
   "source": [
    "14. Generate two hypotheses about how does the survival rate differ among groups of passengers. Write your code to explore both hypotheses."
   ]
  },
  {
   "cell_type": "code",
   "execution_count": null,
   "metadata": {},
   "outputs": [
    {
     "name": "stdout",
     "output_type": "stream",
     "text": [
      "Hypothesis 1: passengers over 60 years old were less likely to survive\n",
      "Percentage of passengers over 60 who survived  22.727272727272727\n",
      "Percentage of passenger under 60 who survived 41.133720930232556\n",
      "Hypothesis 2: children were the age group most likely to survive\n",
      "Percentage of passengers under 18 who survived  53.98230088495575\n",
      "Percentage of passengers over 18who survived 38.10316139767055\n"
     ]
    }
   ],
   "source": [
    "print(\"Hypothesis 1: passengers over 60 years old were less likely to survive\")\n",
    "\n",
    "porcentaje_2 = datos[(datos[\"Age\"] < 60) & (datos[\"Survived\"] == 1)].shape[0]/ datos[(datos[\"Age\"] < 60)].shape[0] *100\n",
    "print(\"Percentage of passengers over 60 who survived \",percentage)\n",
    "print(\"Percentage of passenger under 60 who survived\",porcentaje_2)\n",
    "\n",
    "print(\"Hypothesis 2: children were the age group most likely to survive\")\n",
    "porcentaje_c = datos[(datos[\"Age\"] < 18) & (datos[\"Survived\"] == 1)].shape[0]/ datos[(datos[\"Age\"] < 18)].shape[0] *100\n",
    "porcentaje_t = datos[(datos[\"Age\"] >= 18) & (datos[\"Survived\"] == 1)].shape[0]/ datos[(datos[\"Age\"] >= 18)].shape[0] *100\n",
    "print(\"Percentage of passengers under 18 who survived \",porcentaje_c)\n",
    "print(\"Percentage of passengers over 18 who survived\",porcentaje_t)\n",
    "\n",
    "\n"
   ]
  },
  {
   "cell_type": "code",
   "execution_count": null,
   "metadata": {},
   "outputs": [],
   "source": [
    "import numpy as np\n",
    "\n",
    "np.arange(10)\n",
    "import time \n",
    "\n",
    "start = time.time()\n",
    "\n",
    "total = 0\n",
    "for i in np.arange(10000000):\n",
    "    total = i + total\n",
    "print(total)\n",
    "end = time.time()\n",
    "print(end - start)\n",
    "start = time.time()\n",
    "\n",
    "print(np.sum(np.arange(10000000)))\n",
    "\n",
    "end = time.time()   \n",
    "print(end - start)"
   ]
  }
 ],
 "metadata": {
  "kernelspec": {
   "display_name": "IDM",
   "language": "python",
   "name": "python3"
  },
  "language_info": {
   "codemirror_mode": {
    "name": "ipython",
    "version": 3
   },
   "file_extension": ".py",
   "mimetype": "text/x-python",
   "name": "python",
   "nbconvert_exporter": "python",
   "pygments_lexer": "ipython3",
   "version": "3.11.11"
  }
 },
 "nbformat": 4,
 "nbformat_minor": 2
}
