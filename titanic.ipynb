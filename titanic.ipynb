{
 "cells": [
  {
   "cell_type": "markdown",
   "metadata": {},
   "source": [
    "# Reading data\n",
    "Read the train.csv file as a pandas dataframe."
   ]
  },
  {
   "cell_type": "code",
   "execution_count": 1,
   "metadata": {},
   "outputs": [
    {
     "data": {
      "text/html": [
       "<div>\n",
       "<style scoped>\n",
       "    .dataframe tbody tr th:only-of-type {\n",
       "        vertical-align: middle;\n",
       "    }\n",
       "\n",
       "    .dataframe tbody tr th {\n",
       "        vertical-align: top;\n",
       "    }\n",
       "\n",
       "    .dataframe thead th {\n",
       "        text-align: right;\n",
       "    }\n",
       "</style>\n",
       "<table border=\"1\" class=\"dataframe\">\n",
       "  <thead>\n",
       "    <tr style=\"text-align: right;\">\n",
       "      <th></th>\n",
       "      <th>PassengerId</th>\n",
       "      <th>Survived</th>\n",
       "      <th>Pclass</th>\n",
       "      <th>Name</th>\n",
       "      <th>Sex</th>\n",
       "      <th>Age</th>\n",
       "      <th>SibSp</th>\n",
       "      <th>Parch</th>\n",
       "      <th>Ticket</th>\n",
       "      <th>Fare</th>\n",
       "      <th>Cabin</th>\n",
       "      <th>Embarked</th>\n",
       "    </tr>\n",
       "  </thead>\n",
       "  <tbody>\n",
       "    <tr>\n",
       "      <th>0</th>\n",
       "      <td>1</td>\n",
       "      <td>0</td>\n",
       "      <td>3</td>\n",
       "      <td>Braund, Mr. Owen Harris</td>\n",
       "      <td>male</td>\n",
       "      <td>22.0</td>\n",
       "      <td>1</td>\n",
       "      <td>0</td>\n",
       "      <td>A/5 21171</td>\n",
       "      <td>7.2500</td>\n",
       "      <td>NaN</td>\n",
       "      <td>S</td>\n",
       "    </tr>\n",
       "    <tr>\n",
       "      <th>1</th>\n",
       "      <td>2</td>\n",
       "      <td>1</td>\n",
       "      <td>1</td>\n",
       "      <td>Cumings, Mrs. John Bradley (Florence Briggs Th...</td>\n",
       "      <td>female</td>\n",
       "      <td>38.0</td>\n",
       "      <td>1</td>\n",
       "      <td>0</td>\n",
       "      <td>PC 17599</td>\n",
       "      <td>71.2833</td>\n",
       "      <td>C85</td>\n",
       "      <td>C</td>\n",
       "    </tr>\n",
       "    <tr>\n",
       "      <th>2</th>\n",
       "      <td>3</td>\n",
       "      <td>1</td>\n",
       "      <td>3</td>\n",
       "      <td>Heikkinen, Miss. Laina</td>\n",
       "      <td>female</td>\n",
       "      <td>26.0</td>\n",
       "      <td>0</td>\n",
       "      <td>0</td>\n",
       "      <td>STON/O2. 3101282</td>\n",
       "      <td>7.9250</td>\n",
       "      <td>NaN</td>\n",
       "      <td>S</td>\n",
       "    </tr>\n",
       "    <tr>\n",
       "      <th>3</th>\n",
       "      <td>4</td>\n",
       "      <td>1</td>\n",
       "      <td>1</td>\n",
       "      <td>Futrelle, Mrs. Jacques Heath (Lily May Peel)</td>\n",
       "      <td>female</td>\n",
       "      <td>35.0</td>\n",
       "      <td>1</td>\n",
       "      <td>0</td>\n",
       "      <td>113803</td>\n",
       "      <td>53.1000</td>\n",
       "      <td>C123</td>\n",
       "      <td>S</td>\n",
       "    </tr>\n",
       "    <tr>\n",
       "      <th>4</th>\n",
       "      <td>5</td>\n",
       "      <td>0</td>\n",
       "      <td>3</td>\n",
       "      <td>Allen, Mr. William Henry</td>\n",
       "      <td>male</td>\n",
       "      <td>35.0</td>\n",
       "      <td>0</td>\n",
       "      <td>0</td>\n",
       "      <td>373450</td>\n",
       "      <td>8.0500</td>\n",
       "      <td>NaN</td>\n",
       "      <td>S</td>\n",
       "    </tr>\n",
       "  </tbody>\n",
       "</table>\n",
       "</div>"
      ],
      "text/plain": [
       "   PassengerId  Survived  Pclass  \\\n",
       "0            1         0       3   \n",
       "1            2         1       1   \n",
       "2            3         1       3   \n",
       "3            4         1       1   \n",
       "4            5         0       3   \n",
       "\n",
       "                                                Name     Sex   Age  SibSp  \\\n",
       "0                            Braund, Mr. Owen Harris    male  22.0      1   \n",
       "1  Cumings, Mrs. John Bradley (Florence Briggs Th...  female  38.0      1   \n",
       "2                             Heikkinen, Miss. Laina  female  26.0      0   \n",
       "3       Futrelle, Mrs. Jacques Heath (Lily May Peel)  female  35.0      1   \n",
       "4                           Allen, Mr. William Henry    male  35.0      0   \n",
       "\n",
       "   Parch            Ticket     Fare Cabin Embarked  \n",
       "0      0         A/5 21171   7.2500   NaN        S  \n",
       "1      0          PC 17599  71.2833   C85        C  \n",
       "2      0  STON/O2. 3101282   7.9250   NaN        S  \n",
       "3      0            113803  53.1000  C123        S  \n",
       "4      0            373450   8.0500   NaN        S  "
      ]
     },
     "execution_count": 1,
     "metadata": {},
     "output_type": "execute_result"
    }
   ],
   "source": [
    "import pandas as pd\n",
    "import numpy as np\n",
    "from funciones import get_passenger, get_passengerId, porcentaje_sobrevivir\n",
    "\n",
    "train = pd.read_csv('data/train.csv')\n",
    "train.head()\n"
   ]
  },
  {
   "cell_type": "markdown",
   "metadata": {},
   "source": [
    "# Indexing\n",
    "1. Create a function that returns the name of a passenger given their PassengerId.\n",
    "2. Create a function that returns the PassengerId of a passenger given their Name.\n",
    "3. Print a message with the ID of passenger **Montvila, Rev. Juozas** with the following format: 'The ID pf passenger Montvila, Rev. Juozas is ##'\n",
    "4. Print a message with the name of the passenger with ID **42** with the following format: 'The passenger with ID 42 is X'"
   ]
  },
  {
   "cell_type": "markdown",
   "metadata": {},
   "source": [
    "5. Print all information about the oldest passenger."
   ]
  },
  {
   "cell_type": "code",
   "execution_count": 2,
   "metadata": {},
   "outputs": [
    {
     "name": "stdout",
     "output_type": "stream",
     "text": [
      "The passenger with ID 42 is Turpin, Mrs. William John Robert (Dorothy Ann Wonnacott)\n",
      "The ID of passenger Montvila, Rev. Juozas is 887\n",
      "     PassengerId  Survived  Pclass                                  Name  \\\n",
      "630          631         1       1  Barkworth, Mr. Algernon Henry Wilson   \n",
      "\n",
      "      Sex   Age  SibSp  Parch Ticket  Fare Cabin Embarked  \n",
      "630  male  80.0      0      0  27042  30.0   A23        S  \n"
     ]
    }
   ],
   "source": [
    "print(f'The passenger with ID 42 is {get_passenger(train, 42)}')\n",
    "print(f'The ID of passenger Montvila, Rev. Juozas is {get_passengerId(train, \"Montvila, Rev. Juozas\")}')\n",
    "\n",
    "print(train[train.Age == train.Age.max()])\n",
    "\n"
   ]
  },
  {
   "cell_type": "markdown",
   "metadata": {},
   "source": [
    "# Subseting\n",
    "We are asked to share data for analysis by a third party. Since our dataset contains personal details, we only want to share with them the following information: ticket classes, fares and port of embarkation. We are asked to deliver a sample of the first 100 rows of this dataset.\n",
    "\n",
    "6. Create and save the new dataset in **data/port_fares.csv**."
   ]
  },
  {
   "cell_type": "code",
   "execution_count": 3,
   "metadata": {},
   "outputs": [],
   "source": [
    "port_fares = train.get(['Pclass', 'Fare', 'Embarked'])[:100]\n",
    "port_fares.to_csv('data/port_fares.csv')\n"
   ]
  },
  {
   "cell_type": "markdown",
   "metadata": {},
   "source": [
    "# Counting\n",
    "7. We want to know if there were any survivors over the age of 60, print all of their information.\n",
    "8. How many people over 60 survived?\n",
    "9. What percentage of people over 60 survived?"
   ]
  },
  {
   "cell_type": "code",
   "execution_count": 8,
   "metadata": {},
   "outputs": [
    {
     "name": "stdout",
     "output_type": "stream",
     "text": [
      "Informacion de supervivientes\n",
      "     PassengerId  Survived  Pclass                                       Name  \\\n",
      "275          276         1       1          Andrews, Miss. Kornelia Theodosia   \n",
      "483          484         1       3                     Turkula, Mrs. (Hedwig)   \n",
      "570          571         1       2                         Harris, Mr. George   \n",
      "630          631         1       1       Barkworth, Mr. Algernon Henry Wilson   \n",
      "829          830         1       1  Stone, Mrs. George Nelson (Martha Evelyn)   \n",
      "\n",
      "        Sex   Age  SibSp  Parch       Ticket     Fare Cabin Embarked  \n",
      "275  female  63.0      1      0        13502  77.9583    D7        S  \n",
      "483  female  63.0      0      0         4134   9.5875   NaN        S  \n",
      "570    male  62.0      0      0  S.W./PP 752  10.5000   NaN        S  \n",
      "630    male  80.0      0      0        27042  30.0000   A23        S  \n",
      "829  female  62.0      0      0       113572  80.0000   B28      NaN  \n",
      "\n",
      "Cuantos sobrevivieron\n",
      "5\n",
      "\n",
      "Porcentaje de supervivencia\n",
      "22.727272727272727 %\n"
     ]
    }
   ],
   "source": [
    "print('Informacion de supervivientes')\n",
    "print(train[(train.Age > 60) & (train.Survived == 1)])\n",
    "print('')\n",
    "print('Cuantos sobrevivieron')\n",
    "print(train[(train.Age > 60) & (train.Survived == 1)].shape[0])\n",
    "print('')\n",
    "print('Porcentaje de supervivencia')\n",
    "print(train[(train.Age > 60) & (train.Survived == 1)].shape[0] / train[(train.Age > 60)].shape[0] * 100, '%')"
   ]
  },
  {
   "cell_type": "markdown",
   "metadata": {},
   "source": [
    "# Women and children first?\n",
    "10. Find out if women and children were more likely to survive."
   ]
  },
  {
   "cell_type": "code",
   "execution_count": 5,
   "metadata": {},
   "outputs": [
    {
     "name": "stdout",
     "output_type": "stream",
     "text": [
      "% de niños que sobrevivieron: 53.98230088495575 %\n",
      "% de mujeres que sobrevivieron: 77.18446601941747 %\n",
      "% de hombres que sobrevivieron: 17.72151898734177 %\n"
     ]
    }
   ],
   "source": [
    "kids = train[train.Age < 18]\n",
    "women = train[(train.Age >= 18) & (train.Sex == 'female')]\n",
    "men = train[(train.Age >= 18) & (train.Sex == 'male')]\n",
    "\n",
    "print(\"% de niños que sobrevivieron:\", kids[kids.Survived == 1].shape[0] / kids.shape[0] * 100,'%')\n",
    "print(\"% de mujeres que sobrevivieron:\",women[women.Survived == 1].shape[0] / women.shape[0] * 100,'%')\n",
    "print(\"% de hombres que sobrevivieron:\",men[men.Survived == 1].shape[0] / men.shape[0] * 100,'%')"
   ]
  },
  {
   "cell_type": "markdown",
   "metadata": {},
   "source": [
    "11. Write a function that returns the percentage of people that survived from a subset given as a boolean Pandas series."
   ]
  },
  {
   "cell_type": "code",
   "execution_count": 6,
   "metadata": {},
   "outputs": [
    {
     "data": {
      "text/plain": [
       "'38.38383838383838 %'"
      ]
     },
     "execution_count": 6,
     "metadata": {},
     "output_type": "execute_result"
    }
   ],
   "source": [
    "porcentaje_sobrevivir(train, 'Survived')"
   ]
  },
  {
   "cell_type": "markdown",
   "metadata": {},
   "source": [
    "# Summarizing\n",
    "\n",
    "12. What is the median age of the passengers?\n",
    "13. How many passengers embarked from each port?"
   ]
  },
  {
   "cell_type": "markdown",
   "metadata": {},
   "source": [
    "14. Generate two hypotheses about how does the survival rate differ among groups of passengers. Write your code to explore both hypotheses."
   ]
  },
  {
   "cell_type": "code",
   "execution_count": 7,
   "metadata": {},
   "outputs": [
    {
     "name": "stdout",
     "output_type": "stream",
     "text": [
      "28.0\n",
      "S    644\n",
      "C    168\n",
      "Q     77\n",
      "Name: Embarked, dtype: int64\n"
     ]
    }
   ],
   "source": [
    "print(train.Age.median())\n",
    "\n",
    "print(train.Embarked.value_counts())\n"
   ]
  },
  {
   "cell_type": "code",
   "execution_count": null,
   "metadata": {
    "vscode": {
     "languageId": "ruby"
    }
   },
   "outputs": [
    {
     "name": "stdout",
     "output_type": "stream",
     "text": [
      "Esta es la hipótesis 1: Mientras más alta sea la clase de ticket, mayor será la probabilidad de supervivencia\n",
      "Ratio de supervivencia por clase de ticket:\n",
      "Pclass\n",
      "1    62.962963\n",
      "2    47.282609\n",
      "3    24.236253\n",
      "Name: Survived, dtype: float64\n",
      "Se puede observar que la hipótesis es cierta\n",
      "Las personas con tickets de clase 1 tienen una probabilidad de supervivencia mucho mayor que las personas con tickets de clase 3 \n",
      "\n",
      "Esta es la hipótesis 2: Las mujeres tienen mayor probabilidad de supervivencia que los hombres\n",
      "\n",
      "Ratio de supervivencia por género:\n",
      "Sex\n",
      "female    74.203822\n",
      "male      18.890815\n",
      "Name: Survived, dtype: float64\n",
      "Se comprueba que la hipótesis es cierta\n",
      "Se puede observar que las mujeres tienen una probabilidad de supervivencia mucho mayor que los hombres\n"
     ]
    }
   ],
   "source": [
    "# Hipotesis 1: Ratio de supervivencia por clase de ticket\n",
    "\n",
    "print(\"Esta es la hipótesis 1: Mientras más alta sea la clase de ticket, mayor será la probabilidad de supervivencia\")\n",
    "survival_rate_by_class = train.groupby('Pclass')['Survived'].mean() * 100\n",
    "print(\"Ratio de supervivencia por clase de ticket:\")\n",
    "print(survival_rate_by_class)\n",
    "\n",
    "print(\"Se puede observar que la hipótesis es cierta\")\n",
    "print(\"Las personas con tickets de clase 1 tienen una probabilidad de supervivencia mucho mayor que las personas con tickets de clase 3 \\n\")\n",
    "\n",
    "# Hipotesis 2: Ratio de supervivencia por género\n",
    "print(\"Esta es la hipótesis 2: Las mujeres tienen mayor probabilidad de supervivencia que los hombres\")\n",
    "survival_rate_by_gender = train.groupby('Sex')['Survived'].mean() * 100\n",
    "print(\"\\nRatio de supervivencia por género:\")\n",
    "print(survival_rate_by_gender)\n",
    "\n",
    "print(\"Se comprueba que la hipótesis es cierta\")\n",
    "print(\"Se puede observar que las mujeres tienen una probabilidad de supervivencia mucho mayor que los hombres\")"
   ]
  },
  {
   "cell_type": "code",
   "execution_count": null,
   "metadata": {
    "vscode": {
     "languageId": "ruby"
    }
   },
   "outputs": [
    {
     "name": "stdout",
     "output_type": "stream",
     "text": [
      "499999500000\n",
      "0.22881484031677246\n"
     ]
    }
   ],
   "source": [
    "import time\n",
    "import numpy as np\n",
    "\n",
    "start = time.time()\n",
    "\n",
    "total = 0\n",
    "for i in np.arange(1000000):\n",
    "    total += i \n",
    "print(total)\n",
    "end = time.time()\n",
    "print(end - start)\n"
   ]
  },
  {
   "cell_type": "code",
   "execution_count": null,
   "metadata": {
    "vscode": {
     "languageId": "ruby"
    }
   },
   "outputs": [
    {
     "name": "stdout",
     "output_type": "stream",
     "text": [
      "49999995000000\n",
      "0.06715250015258789\n"
     ]
    }
   ],
   "source": [
    "start = time.time()\n",
    "\n",
    "print(np.sum(np.arange(10000000)))\n",
    "\n",
    "end = time.time()   \n",
    "print(end - start)"
   ]
  }
 ],
 "metadata": {
  "kernelspec": {
   "display_name": "base",
   "language": "python",
   "name": "python3"
  },
  "language_info": {
   "codemirror_mode": {
    "name": "ipython",
    "version": 3
   },
   "file_extension": ".py",
   "mimetype": "text/x-python",
   "name": "python",
   "nbconvert_exporter": "python",
   "pygments_lexer": "ipython3",
   "version": "3.9.12"
  }
 },
 "nbformat": 4,
 "nbformat_minor": 2
}
